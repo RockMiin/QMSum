{
 "cells": [
  {
   "cell_type": "code",
   "execution_count": 1,
   "metadata": {},
   "outputs": [
    {
     "name": "stderr",
     "output_type": "stream",
     "text": [
      "Reusing dataset scrolls (/home/hadoop/.cache/huggingface/datasets/tau___scrolls/qmsum/1.0.0/672021d5d8e1edff998a6ea7a5bff35fdfd0ae243e7cf6a8c88a57a04afb46ac)\n"
     ]
    },
    {
     "data": {
      "application/vnd.jupyter.widget-view+json": {
       "model_id": "63998b6455704428b6b2a1af7a2a652a",
       "version_major": 2,
       "version_minor": 0
      },
      "text/plain": [
       "  0%|          | 0/3 [00:00<?, ?it/s]"
      ]
     },
     "metadata": {},
     "output_type": "display_data"
    },
    {
     "data": {
      "text/plain": [
       "DatasetDict({\n",
       "    train: Dataset({\n",
       "        features: ['id', 'pid', 'input', 'output'],\n",
       "        num_rows: 1257\n",
       "    })\n",
       "    validation: Dataset({\n",
       "        features: ['id', 'pid', 'input', 'output'],\n",
       "        num_rows: 272\n",
       "    })\n",
       "    test: Dataset({\n",
       "        features: ['id', 'pid', 'input', 'output'],\n",
       "        num_rows: 281\n",
       "    })\n",
       "})"
      ]
     },
     "execution_count": 1,
     "metadata": {},
     "output_type": "execute_result"
    }
   ],
   "source": [
    "from datasets import load_dataset\n",
    "\n",
    "# huggingface에 있는 dataset을 가져와서 question, context를 분리하여 arrow파일 형태로 저장 ! \n",
    "qmsum_dataset = load_dataset(\"tau/scrolls\", \"qmsum\")\n",
    "qmsum_dataset"
   ]
  },
  {
   "cell_type": "code",
   "execution_count": 2,
   "metadata": {},
   "outputs": [
    {
     "data": {
      "text/plain": [
       "Dataset({\n",
       "    features: ['id', 'pid', 'input', 'output'],\n",
       "    num_rows: 1257\n",
       "})"
      ]
     },
     "execution_count": 2,
     "metadata": {},
     "output_type": "execute_result"
    }
   ],
   "source": [
    "train= qmsum_dataset['train']\n",
    "valid= qmsum_dataset['validation']\n",
    "test= qmsum_dataset['test']\n",
    "\n",
    "train"
   ]
  },
  {
   "cell_type": "code",
   "execution_count": 15,
   "metadata": {},
   "outputs": [
    {
     "name": "stderr",
     "output_type": "stream",
     "text": [
      "100%|██████████| 281/281 [00:01<00:00, 142.61it/s]\n"
     ]
    }
   ],
   "source": [
    "\n",
    "# split input -> question, context\n",
    "from tqdm import tqdm\n",
    "\n",
    "def change_dataset(dataset, file_name):\n",
    "    question= []\n",
    "    context= []\n",
    "\n",
    "    for i in tqdm(range(len(dataset))):\n",
    "        input_list= dataset['input'][i].split('\\n\\n')\n",
    "        if len(input_list) != 2: assert False\n",
    "        question.append(input_list[0]) # question\n",
    "        context.append(input_list[-1])\n",
    "\n",
    "    dataset= dataset.add_column('question', question)\n",
    "    dataset= dataset.add_column('context', context)\n",
    "\n",
    "    dataset.save_to_disk(f'./data/{file_name}_re')\n",
    "\n",
    "change_dataset(train, 'train')\n",
    "change_dataset(valid, 'valid')\n",
    "change_dataset(test, 'test')"
   ]
  }
 ],
 "metadata": {
  "interpreter": {
   "hash": "2e75d190a05bf5b0b3a3b9c09da66a3c0aa50eca6da3fa020738b27f11901d61"
  },
  "kernelspec": {
   "display_name": "Python 3.7.10 ('torch': conda)",
   "language": "python",
   "name": "python3"
  },
  "language_info": {
   "codemirror_mode": {
    "name": "ipython",
    "version": 3
   },
   "file_extension": ".py",
   "mimetype": "text/x-python",
   "name": "python",
   "nbconvert_exporter": "python",
   "pygments_lexer": "ipython3",
   "version": "3.7.10"
  },
  "orig_nbformat": 4
 },
 "nbformat": 4,
 "nbformat_minor": 2
}
