{
 "cells": [
  {
   "cell_type": "code",
   "execution_count": 14,
   "metadata": {},
   "outputs": [],
   "source": [
    "from haystack.utils import clean_wiki_text, convert_files_to_dicts, fetch_archive_from_http, print_answers\n",
    "from haystack.nodes import FARMReader, TransformersReader\n",
    "from datasets import load_dataset\n",
    "\n",
    "from haystack.utils import print_answers\n",
    "\n",
    "from haystack.nodes import ElasticsearchRetriever, FARMReader\n",
    "from haystack.document_stores import ElasticsearchDocumentStore\n",
    "from haystack.pipelines import DocumentSearchPipeline, ExtractiveQAPipeline"
   ]
  },
  {
   "cell_type": "code",
   "execution_count": 15,
   "metadata": {},
   "outputs": [
    {
     "name": "stderr",
     "output_type": "stream",
     "text": [
      "WARNING - haystack.utils.doc_store -  Tried to start Elasticsearch through Docker but this failed. It is likely that there is already an existing Elasticsearch instance running. \n"
     ]
    }
   ],
   "source": [
    "# Recommended: Start Elasticsearch using Docker via the Haystack utility function\n",
    "from haystack.utils import launch_es\n",
    "\n",
    "launch_es()"
   ]
  },
  {
   "cell_type": "code",
   "execution_count": 22,
   "metadata": {},
   "outputs": [],
   "source": [
    "import os\n",
    "from subprocess import Popen, PIPE, STDOUT\n",
    "\n",
    "es_server = Popen(\n",
    "    [\"elasticsearch-7.9.2/bin/elasticsearch\"], stdout=PIPE, stderr=STDOUT  # as daemon\n",
    ")\n",
    "# wait until ES has started\n",
    "# ! sleep 30"
   ]
  },
  {
   "cell_type": "code",
   "execution_count": 23,
   "metadata": {},
   "outputs": [
    {
     "name": "stderr",
     "output_type": "stream",
     "text": [
      "/home/hadoop/miniconda3/envs/torch/lib/python3.7/site-packages/elasticsearch/connection/base.py:190: ElasticsearchDeprecationWarning: Elasticsearch built-in security features are not enabled. Without authentication, your cluster could be accessible to anyone. See https://www.elastic.co/guide/en/elasticsearch/reference/7.17/security-minimal-setup.html to enable security.\n",
      "  warnings.warn(message, category=ElasticsearchDeprecationWarning)\n"
     ]
    }
   ],
   "source": [
    "# Connect to Elasticsearch\n",
    "\n",
    "from haystack.document_stores import ElasticsearchDocumentStore\n",
    "\n",
    "document_store = ElasticsearchDocumentStore(host=\"0.0.0.0\", username=\"\", password=\"\", index=\"document\")"
   ]
  },
  {
   "cell_type": "code",
   "execution_count": 25,
   "metadata": {},
   "outputs": [],
   "source": [
    "from datasets import load_from_disk\n",
    "\n",
    "train= load_from_disk('./data/train_re')\n",
    "valid= load_from_disk('./data/valid_re')\n",
    "test= load_from_disk('./data/test_re')"
   ]
  },
  {
   "cell_type": "code",
   "execution_count": 26,
   "metadata": {},
   "outputs": [
    {
     "name": "stderr",
     "output_type": "stream",
     "text": [
      "100%|██████████| 1257/1257 [00:00<00:00, 5006.16it/s]\n",
      "100%|██████████| 281/281 [00:00<00:00, 5760.82it/s]\n",
      "100%|██████████| 272/272 [00:00<00:00, 5627.38it/s]\n"
     ]
    }
   ],
   "source": [
    "from tqdm import tqdm\n",
    "retrieve_dataset= []\n",
    "\n",
    "for c in tqdm(train):\n",
    "    retrieve_dataset.append(dict(content= c['context'], meta= {'question': c['question'], 'output': c['output']}))\n",
    "\n",
    "for c in tqdm(test):\n",
    "    retrieve_dataset.append(dict(content= c['context'], meta= {'question': c['question'], 'output': c['output']}))\n",
    "\n",
    "for c in tqdm(valid):\n",
    "    retrieve_dataset.append(dict(content= c['context'], meta= {'question': c['question'], 'output': c['output']})) "
   ]
  },
  {
   "cell_type": "code",
   "execution_count": 27,
   "metadata": {},
   "outputs": [
    {
     "name": "stderr",
     "output_type": "stream",
     "text": [
      "/home/hadoop/miniconda3/envs/torch/lib/python3.7/site-packages/elasticsearch/connection/base.py:190: ElasticsearchDeprecationWarning: Elasticsearch built-in security features are not enabled. Without authentication, your cluster could be accessible to anyone. See https://www.elastic.co/guide/en/elasticsearch/reference/7.17/security-minimal-setup.html to enable security.\n",
      "  warnings.warn(message, category=ElasticsearchDeprecationWarning)\n"
     ]
    }
   ],
   "source": [
    "document_store.write_documents(retrieve_dataset)"
   ]
  },
  {
   "cell_type": "code",
   "execution_count": 28,
   "metadata": {},
   "outputs": [],
   "source": [
    "from haystack.nodes import ElasticsearchRetriever, FARMReader\n",
    "\n",
    "retriever = ElasticsearchRetriever(document_store=document_store)"
   ]
  },
  {
   "cell_type": "code",
   "execution_count": 29,
   "metadata": {},
   "outputs": [],
   "source": [
    "from haystack.pipelines import DocumentSearchPipeline, ExtractiveQAPipeline\n",
    "\n",
    "pipe = DocumentSearchPipeline(retriever)"
   ]
  },
  {
   "cell_type": "code",
   "execution_count": 35,
   "metadata": {},
   "outputs": [
    {
     "name": "stderr",
     "output_type": "stream",
     "text": [
      "281it [00:13, 21.27it/s]"
     ]
    },
    {
     "name": "stdout",
     "output_type": "stream",
     "text": [
      "test retriever accuracy : 75.80071174377224%\n"
     ]
    },
    {
     "name": "stderr",
     "output_type": "stream",
     "text": [
      "\n"
     ]
    }
   ],
   "source": [
    "k= 50\n",
    "cnt= 0\n",
    "\n",
    "for i, t in tqdm(enumerate(test)):\n",
    "    question, labels= t['question'], t['context']\n",
    "    topk= pipe.run(query= question, params={\"Retriever\": {\"top_k\": k}})\n",
    "\n",
    "    topk_passage= []\n",
    "\n",
    "    for j in range(k):\n",
    "        topk_passage.append(topk['documents'][j].content)\n",
    "\n",
    "    if labels in topk_passage:\n",
    "        # print(labels)\n",
    "        cnt+=1\n",
    "\n",
    "print(f'test retriever accuracy : {cnt/len(test)*100}%')\n"
   ]
  }
 ],
 "metadata": {
  "interpreter": {
   "hash": "2e75d190a05bf5b0b3a3b9c09da66a3c0aa50eca6da3fa020738b27f11901d61"
  },
  "kernelspec": {
   "display_name": "Python 3.7.10 ('torch')",
   "language": "python",
   "name": "python3"
  },
  "language_info": {
   "codemirror_mode": {
    "name": "ipython",
    "version": 3
   },
   "file_extension": ".py",
   "mimetype": "text/x-python",
   "name": "python",
   "nbconvert_exporter": "python",
   "pygments_lexer": "ipython3",
   "version": "3.7.10"
  },
  "orig_nbformat": 4
 },
 "nbformat": 4,
 "nbformat_minor": 2
}
