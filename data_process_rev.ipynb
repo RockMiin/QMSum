{
 "cells": [
  {
   "cell_type": "code",
   "execution_count": 10,
   "metadata": {},
   "outputs": [
    {
     "name": "stdout",
     "output_type": "stream",
     "text": [
      "Total 35 meetings in the test set.\n"
     ]
    }
   ],
   "source": [
    "\"\"\"\n",
    "    처음 구성된 dataset을 우리가 사용할 목적에 맞게 specific query에 대해서만 data를 만들어주는 notebook\n",
    "    speicific query\n",
    "\n",
    "\"\"\"\n",
    "\n",
    "import json\n",
    "\n",
    "split = 'train'\n",
    "data_path = './data/' + split + '.jsonl'\n",
    "data = []\n",
    "with open(data_path) as f:\n",
    "    for line in f:\n",
    "        data.append(json.loads(line))\n",
    "n_meetings = len(data)\n",
    "print('Total {} meetings in the {} set.'.format(n_meetings, split))"
   ]
  },
  {
   "cell_type": "code",
   "execution_count": 11,
   "metadata": {},
   "outputs": [],
   "source": [
    "from nltk import word_tokenize\n",
    "# tokneize a sent\n",
    "# 문장을 단어 단위로 쪼개는 느낌\n",
    "def tokenize(sent):\n",
    "    tokens = ' '.join(word_tokenize(sent.lower()))\n",
    "    return tokens"
   ]
  },
  {
   "cell_type": "code",
   "execution_count": 12,
   "metadata": {},
   "outputs": [],
   "source": [
    "# filter some noises caused by speech recognition\n",
    "def clean_data(text):\n",
    "    text = text.replace('{ vocalsound } ', '')\n",
    "    text = text.replace('{ disfmarker } ', '')\n",
    "    text = text.replace('a_m_i_', 'ami')\n",
    "    text = text.replace('l_c_d_', 'lcd')\n",
    "    text = text.replace('p_m_s', 'pms')\n",
    "    text = text.replace('t_v_', 'tv')\n",
    "    text = text.replace('{ pause } ', '')\n",
    "    text = text.replace('{ nonvocalsound } ', '')\n",
    "    text = text.replace('{ gap } ', '')\n",
    "    return text"
   ]
  },
  {
   "cell_type": "code",
   "execution_count": 13,
   "metadata": {},
   "outputs": [
    {
     "name": "stderr",
     "output_type": "stream",
     "text": [
      "  6%|▌         | 2/35 [00:00<00:06,  5.13it/s]"
     ]
    },
    {
     "name": "stdout",
     "output_type": "stream",
     "text": [
      "[[48, 76], [153, 389]]\n",
      "[[77, 152], [390, 430]]\n",
      "[[73, 88], [121, 175]]\n"
     ]
    },
    {
     "name": "stderr",
     "output_type": "stream",
     "text": [
      " 20%|██        | 7/35 [00:01<00:04,  6.06it/s]"
     ]
    },
    {
     "name": "stdout",
     "output_type": "stream",
     "text": [
      "[[43, 97], [297, 361]]\n",
      "[[98, 193], [208, 251]]\n",
      "[[199, 207], [252, 296], [362, 381]]\n",
      "[[264, 283], [368, 379]]\n"
     ]
    },
    {
     "name": "stderr",
     "output_type": "stream",
     "text": [
      " 23%|██▎       | 8/35 [00:01<00:04,  5.48it/s]"
     ]
    },
    {
     "name": "stdout",
     "output_type": "stream",
     "text": [
      "[[4, 4], [28, 34], [113, 140]]\n",
      "[[28, 30], [113, 121]]\n",
      "[[19, 25], [122, 132]]\n"
     ]
    },
    {
     "name": "stderr",
     "output_type": "stream",
     "text": [
      " 40%|████      | 14/35 [00:02<00:03,  6.68it/s]"
     ]
    },
    {
     "name": "stdout",
     "output_type": "stream",
     "text": [
      "[[58, 188], [341, 381]]\n",
      "[[185, 188], [372, 381]]\n",
      "[[236, 325], [382, 433]]\n",
      "[[310, 325], [413, 427]]\n"
     ]
    },
    {
     "name": "stderr",
     "output_type": "stream",
     "text": [
      " 57%|█████▋    | 20/35 [00:03<00:02,  5.66it/s]"
     ]
    },
    {
     "name": "stdout",
     "output_type": "stream",
     "text": [
      "[[420, 441], [452, 459]]\n",
      "[[20, 38], [177, 179]]\n",
      "[[47, 47], [53, 53]]\n",
      "[[95, 157], [173, 176], [189, 223]]\n"
     ]
    },
    {
     "name": "stderr",
     "output_type": "stream",
     "text": [
      " 63%|██████▎   | 22/35 [00:03<00:02,  5.21it/s]"
     ]
    },
    {
     "name": "stdout",
     "output_type": "stream",
     "text": [
      "[[57, 84], [272, 481]]\n",
      "[[85, 271], [482, 504]]\n"
     ]
    },
    {
     "name": "stderr",
     "output_type": "stream",
     "text": [
      " 71%|███████▏  | 25/35 [00:04<00:01,  5.54it/s]"
     ]
    },
    {
     "name": "stdout",
     "output_type": "stream",
     "text": [
      "[[20, 316], [530, 575]]\n",
      "[[61, 61], [252, 316]]\n",
      "[[386, 395], [415, 429]]\n",
      "[[452, 463], [500, 529]]\n",
      "[[464, 485], [500, 529]]\n",
      "[[472, 485], [500, 529]]\n"
     ]
    },
    {
     "name": "stderr",
     "output_type": "stream",
     "text": [
      " 77%|███████▋  | 27/35 [00:04<00:01,  4.68it/s]"
     ]
    },
    {
     "name": "stdout",
     "output_type": "stream",
     "text": [
      "[[11, 38], [50, 64]]\n",
      "[[39, 49], [127, 134], [176, 195]]\n",
      "[[163, 175], [241, 274]]\n",
      "[[109, 122], [213, 221]]\n"
     ]
    },
    {
     "name": "stderr",
     "output_type": "stream",
     "text": [
      " 80%|████████  | 28/35 [00:05<00:01,  4.12it/s]"
     ]
    },
    {
     "name": "stdout",
     "output_type": "stream",
     "text": [
      "[[117, 142], [539, 882]]\n",
      "[[203, 232], [246, 248]]\n"
     ]
    },
    {
     "name": "stderr",
     "output_type": "stream",
     "text": [
      " 86%|████████▌ | 30/35 [00:05<00:00,  5.26it/s]"
     ]
    },
    {
     "name": "stdout",
     "output_type": "stream",
     "text": [
      "[[119, 119], [171, 188]]\n"
     ]
    },
    {
     "name": "stderr",
     "output_type": "stream",
     "text": [
      " 94%|█████████▍| 33/35 [00:05<00:00,  4.95it/s]"
     ]
    },
    {
     "name": "stdout",
     "output_type": "stream",
     "text": [
      "[[30, 63], [267, 329]]\n",
      "[[64, 64], [197, 202]]\n",
      "[[66, 193], [203, 207]]\n"
     ]
    },
    {
     "name": "stderr",
     "output_type": "stream",
     "text": [
      "100%|██████████| 35/35 [00:06<00:00,  5.58it/s]"
     ]
    },
    {
     "name": "stdout",
     "output_type": "stream",
     "text": [
      "[[107, 118], [137, 186]]\n",
      "[[119, 136], [278, 297]]\n",
      "Total 244 query-summary pairs in the test set\n"
     ]
    },
    {
     "name": "stderr",
     "output_type": "stream",
     "text": [
      "\n"
     ]
    }
   ],
   "source": [
    "# process data for BART\n",
    "# the input of the model here is the entire content of the meeting\n",
    "from tqdm import tqdm\n",
    "specific_data = []\n",
    "\n",
    "for i in tqdm(range(len(data))):\n",
    "    # get meeting content\n",
    "    passage= []\n",
    "    # print(f'length of data: {len(data[i])}')\n",
    "    for k in range(len(data[i]['meeting_transcripts'])):\n",
    "        cur_turn = data[i]['meeting_transcripts'][k]['speaker'].lower() + ' said ' # 화자\n",
    "        # cur_turn = data[i]['meeting_transcripts'][k]['speaker'].lower() + ': ' # 화자\n",
    "        cur_turn = clean_data(cur_turn + tokenize(data[i]['meeting_transcripts'][k]['content'])) # 말하는 말까지 포함해서 append\n",
    "        passage.append(cur_turn)\n",
    "    passage = ' \\n '.join(passage)\n",
    "    # for j in range(len(data[i]['general_query_list'])):\n",
    "    #     cur = {}\n",
    "    #     query = tokenize(data[i]['general_query_list'][j]['query'])\n",
    "    #     cur['src'] = clean_data('<s> ' + query + ' </s> ' + src + ' </s>')\n",
    "    #     target = tokenize(data[i]['general_query_list'][j]['answer'])\n",
    "    #     cur['tgt'] = target\n",
    "    #     bart_data.append(cur)\n",
    "\n",
    "    for j in range(len(data[i]['specific_query_list'])):\n",
    "        cur = dict()\n",
    "        query = tokenize(data[i]['specific_query_list'][j]['query'])\n",
    "        target = tokenize(data[i]['specific_query_list'][j]['answer']) \n",
    "        rel_span= [[int(start), int(end)] for start, end in data[i]['specific_query_list'][j]['relevant_text_span']]\n",
    "        \n",
    "        if len(rel_span) >1: print(rel_span)\n",
    "         \n",
    "        relevant_span= ''\n",
    "        for h, (start, end) in enumerate(rel_span):\n",
    "            # print(start, end)\n",
    "            tmp_span= []\n",
    "            for k in range(start, end+1):\n",
    "                rel_turn = data[i]['meeting_transcripts'][k]['speaker'].lower() + ' said ' # 화자\n",
    "                # rel_turn = data[i]['meeting_transcripts'][k]['speaker'].lower() + ': ' # 화자\n",
    "                rel_turn = clean_data(rel_turn + tokenize(data[i]['meeting_transcripts'][k]['content'])) # 말하는 말까지 포함해서 append\n",
    "                tmp_span.append(rel_turn)\n",
    "            relevant_span+= ' \\n '.join(tmp_span)\n",
    "            if len(rel_span) > 1 and h != len(rel_span)-1: # rel span이 2개 이상일 때 + 마지막 span에는 추가해주지 않는다.\n",
    "                relevant_span+= ' \\n '\n",
    "                # relevant_span+= ' \\n\\n '\n",
    "\n",
    "        cur['query'] = clean_data(query)\n",
    "        cur['passage']= clean_data(passage)\n",
    "        cur['target'] = target\n",
    "        cur['relevant_span']= clean_data(relevant_span)\n",
    "        cur['document_id']= i\n",
    "        cur['relevant_idx']= rel_span\n",
    "        specific_data.append(cur)\n",
    "        \n",
    "print('Total {} query-summary pairs in the {} set'.format(len(specific_data), split))\n",
    "# print(specific_data[2])\n",
    "with open('./data/specific_' + split + '.jsonl', 'w') as f:\n",
    "    for i in range(len(specific_data)):\n",
    "        print(json.dumps(specific_data[i]), file=f)"
   ]
  },
  {
   "cell_type": "code",
   "execution_count": null,
   "metadata": {},
   "outputs": [],
   "source": []
  }
 ],
 "metadata": {
  "kernelspec": {
   "display_name": "Python 3",
   "language": "python",
   "name": "python3"
  },
  "language_info": {
   "codemirror_mode": {
    "name": "ipython",
    "version": 3
   },
   "file_extension": ".py",
   "mimetype": "text/x-python",
   "name": "python",
   "nbconvert_exporter": "python",
   "pygments_lexer": "ipython3",
   "version": "3.7.10"
  }
 },
 "nbformat": 4,
 "nbformat_minor": 4
}
