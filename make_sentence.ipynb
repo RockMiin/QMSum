{
 "cells": [
  {
   "cell_type": "code",
   "execution_count": 32,
   "metadata": {},
   "outputs": [
    {
     "name": "stdout",
     "output_type": "stream",
     "text": [
      "Total 162 meetings in the train set.\n"
     ]
    }
   ],
   "source": [
    "\"\"\"문장 단위로 relevant span 내에 문장이 들어가는지 여부를 labeling 해주는 notebook\"\"\"\n",
    "\n",
    "import json\n",
    "\n",
    "split = 'train'\n",
    "data_path = './data/ALL/jsonl/' + split + '.jsonl'\n",
    "data = []\n",
    "with open(data_path) as f:\n",
    "    for line in f:\n",
    "        data.append(json.loads(line))\n",
    "n_meetings = len(data)\n",
    "print('Total {} meetings in the {} set.'.format(n_meetings, split))"
   ]
  },
  {
   "cell_type": "code",
   "execution_count": 33,
   "metadata": {},
   "outputs": [],
   "source": [
    "from nltk import word_tokenize\n",
    "# tokneize a sent\n",
    "# 문장을 단어 단위로 쪼개는 느낌..!\n",
    "def tokenize(sent):\n",
    "    tokens = ' '.join(word_tokenize(sent.lower()))\n",
    "    return tokens"
   ]
  },
  {
   "cell_type": "code",
   "execution_count": 34,
   "metadata": {},
   "outputs": [],
   "source": [
    "# filter some noises caused by speech recognition\n",
    "def clean_data(text):\n",
    "    text = text.replace('{ vocalsound } ', '')\n",
    "    text = text.replace('{ disfmarker } ', '')\n",
    "    text = text.replace('a_m_i_', 'ami')\n",
    "    text = text.replace('l_c_d_', 'lcd')\n",
    "    text = text.replace('p_m_s', 'pms')\n",
    "    text = text.replace('t_v_', 'tv')\n",
    "    text = text.replace('{ pause } ', '')\n",
    "    text = text.replace('{ nonvocalsound } ', '')\n",
    "    text = text.replace('{ gap } ', '')\n",
    "    return text"
   ]
  },
  {
   "cell_type": "code",
   "execution_count": 35,
   "metadata": {},
   "outputs": [
    {
     "name": "stderr",
     "output_type": "stream",
     "text": [
      "100%|██████████| 162/162 [01:41<00:00,  1.60it/s]\n"
     ]
    },
    {
     "name": "stdout",
     "output_type": "stream",
     "text": [
      "Total 538174 query-summary pairs in the train set\n"
     ]
    }
   ],
   "source": [
    "from tqdm import tqdm\n",
    "import pandas as pd\n",
    "\n",
    "df= pd.DataFrame(columns= ['document_id', 'query', 'sentence', 'relevant_idx', 'sentence_idx', 'label'])\n",
    "\n",
    "\n",
    "specific_data = []\n",
    "for i in tqdm(range(len(data))):\n",
    "\n",
    "    for j in range(len(data[i]['specific_query_list'])):\n",
    "        query = tokenize(data[i]['specific_query_list'][j]['query'])\n",
    "        target = tokenize(data[i]['specific_query_list'][j]['answer']) \n",
    "        rel_span= [[int(start), int(end)] for start, end in data[i]['specific_query_list'][j]['relevant_text_span']]\n",
    "\n",
    "        for k in range(len(data[i]['meeting_transcripts'])):\n",
    "            cur = dict()\n",
    "            for start, end in rel_span:\n",
    "                if start<= k+1 <= end:\n",
    "                    label= 1\n",
    "                    break;\n",
    "                else: label= 0\n",
    "\n",
    "            cur_turn = data[i]['meeting_transcripts'][k]['speaker'].lower() + ' : ' # 화자\n",
    "            cur_turn = clean_data(cur_turn + tokenize(data[i]['meeting_transcripts'][k]['content']))\n",
    "\n",
    "\n",
    "            \n",
    "            cur['query'] = clean_data(query)\n",
    "            cur['sentence']= cur_turn\n",
    "            cur['document_id']= i\n",
    "            cur['label']= label\n",
    "            cur['relevant_idx']= rel_span\n",
    "            cur['sentence_idx']= k\n",
    "\n",
    "            specific_data.append(cur)\n",
    "        \n",
    "print('Total {} query-summary pairs in the {} set'.format(len(specific_data), split))\n",
    "# print(specific_data[2])\n",
    "with open('./data/dpr_' + split + '.jsonl', 'w') as f:\n",
    "    for i in range(len(specific_data)):\n",
    "        print(json.dumps(specific_data[i]), file=f)"
   ]
  }
 ],
 "metadata": {
  "kernelspec": {
   "display_name": "Python 3",
   "language": "python",
   "name": "python3"
  },
  "language_info": {
   "codemirror_mode": {
    "name": "ipython",
    "version": 3
   },
   "file_extension": ".py",
   "mimetype": "text/x-python",
   "name": "python",
   "nbconvert_exporter": "python",
   "pygments_lexer": "ipython3",
   "version": "3.7.10"
  }
 },
 "nbformat": 4,
 "nbformat_minor": 4
}
